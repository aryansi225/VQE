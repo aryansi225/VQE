{
 "cells": [
  {
   "cell_type": "code",
   "execution_count": 1,
   "metadata": {},
   "outputs": [],
   "source": [
    "#Step 1 => Hamiltonian to Pauli Decomposition\n",
    "import numpy as np\n",
    "from numpy import kron"
   ]
  },
  {
   "cell_type": "code",
   "execution_count": 2,
   "metadata": {},
   "outputs": [],
   "source": [
    "def HS(M1,M2): #Hilbert Schmidt Product\n",
    "    return (np.dot(M1.conjugate().transpose(),M2)).trace()"
   ]
  },
  {
   "cell_type": "code",
   "execution_count": 3,
   "metadata": {},
   "outputs": [],
   "source": [
    "def decompose(H):\n",
    "    sx = np.array([[0, 1],  [ 1, 0]], dtype=np.complex128) #Pauli X Matrix\n",
    "    sy = np.array([[0, -1j],[1j, 0]], dtype=np.complex128) #Pauli Y Matrix\n",
    "    sz = np.array([[1, 0],  [0, -1]], dtype=np.complex128) #Pauli Z Matrix\n",
    "    id = np.array([[1, 0],  [ 0, 1]], dtype=np.complex128) #Pauli I Matrix\n",
    "    S = [id, sx, sy, sz]\n",
    "    labels = ['I','X','Y','Z']\n",
    "    l = list()\n",
    "    for i in range(4):\n",
    "        for j in range(4):\n",
    "            label = labels[i]+labels[j]\n",
    "            a_ij = 0.25 * HS(kron(S[i],S[j]), H)\n",
    "            if a_ij != 0.0:\n",
    "                l.append(tuple((a_ij,label)))\n",
    "                print(\"%s * ( %s )\" % (a_ij, label[0]+' ⊗ '+label[1]))\n",
    "    return l;"
   ]
  },
  {
   "cell_type": "code",
   "execution_count": 4,
   "metadata": {},
   "outputs": [
    {
     "name": "stdout",
     "output_type": "stream",
     "text": [
      "(-0.5+0j) * ( I ⊗ I )\n",
      "(0.5+0j) * ( X ⊗ X )\n",
      "(0.5+0j) * ( Y ⊗ Y )\n",
      "(0.5+0j) * ( Z ⊗ Z )\n",
      "[((-0.5+0j), 'II'), ((0.5+0j), 'XX'), ((0.5+0j), 'YY'), ((0.5+0j), 'ZZ')]\n"
     ]
    }
   ],
   "source": [
    "#Step 1 -- Test\n",
    "H = np.array([[0,0,0,0],[0,-1,1,0],[0,1,-1,0],[0,0,0,0]], dtype=np.complex128)\n",
    "d = decompose(H)\n",
    "print(d)"
   ]
  },
  {
   "cell_type": "code",
   "execution_count": 5,
   "metadata": {},
   "outputs": [],
   "source": [
    "#Step 2 => Ansatz Circuit -> Initial random state created using parameterized gates\n",
    "from qiskit import QuantumCircuit\n",
    "def ansatz(theta):\n",
    "    psi = QuantumCircuit(2,2)\n",
    "    psi.h(0)\n",
    "    psi.rz(theta,0)\n",
    "    psi.cx(0,1)\n",
    "    psi.x(1)\n",
    "    return psi"
   ]
  },
  {
   "cell_type": "code",
   "execution_count": 6,
   "metadata": {},
   "outputs": [
    {
     "data": {
      "image/png": "[encoded data removed]",
      "text/plain": [
       "<Figure size 381.432x204.68 with 1 Axes>"
      ]
     },
     "execution_count": 6,
     "metadata": {},
     "output_type": "execute_result"
    }
   ],
   "source": [
    "#Step 2 -- Test\n",
    "psi = ansatz(2.0*np.pi)\n",
    "%matplotlib inline\n",
    "psi.draw(output='mpl')"
   ]
  },
  {
   "cell_type": "code",
   "execution_count": 7,
   "metadata": {},
   "outputs": [],
   "source": [
    "#Hepler Function - Change the basis state to Z basis since QC can measure in that basis, for X we do inverse Hadamard\n",
    "# and for Y we do a inverse Y\n",
    "def measure_circ(psi,measure):\n",
    "    if measure == 'XX':\n",
    "        psi.u2(0, np.pi, 0)\n",
    "        psi.u2(0, np.pi, 1)\n",
    "        psi.measure((0,1),(0,1))\n",
    "    elif measure == 'ZZ':\n",
    "        psi.measure((0,1),(0,1))\n",
    "    elif measure == 'YY':\n",
    "        psi.u2(0, np.pi/2, 0)\n",
    "        psi.u2(0, np.pi/2, 1)\n",
    "        psi.measure((0,1),(0,1))\n",
    "    else:\n",
    "         raise ValueError('Input is incorrect\"')\n",
    "    return psi"
   ]
  },
  {
   "cell_type": "code",
   "execution_count": 8,
   "metadata": {},
   "outputs": [],
   "source": [
    "#Helper Function - Get the value for a key in dictionary\n",
    "def get_count(d,k):\n",
    "    if k in d:\n",
    "        return d[k]\n",
    "    else:\n",
    "        return 0"
   ]
  },
  {
   "cell_type": "code",
   "execution_count": 9,
   "metadata": {},
   "outputs": [],
   "source": [
    "#Helper function - Get the expected value for each Pauli term from the circuit\n",
    "#The expectation value formula is 1/N*((N00 + N11) - (N01 + N10)) since 2 qubit system can have only 4 states 00,01,10,11\n",
    "# and exp = 1/N*( N00 <00|Z⊗Z|00> + N11 <11|Z⊗Z|11> + N01 <01|Z⊗Z|01> + N10 <10|Z⊗Z|10>)\n",
    "# and <00|Z⊗Z|00> = <11|Z⊗Z|11> = 1 & <01|Z⊗Z|01> = <10|Z⊗Z|10> = -1\n",
    "\n",
    "from qiskit import Aer,execute\n",
    "def expect_val(theta, measure):\n",
    "    # measure in the right basis, then use the counts to compute the expectation value.\n",
    "    circuit = ansatz(theta)\n",
    "    if measure == 'II':\n",
    "        return 1\n",
    "    else:\n",
    "        circuit = measure_circ(circuit,measure)\n",
    "    \n",
    "    shots = 1024\n",
    "    backend = Aer.get_backend('qasm_simulator')\n",
    "    job = execute(circuit, backend, shots=shots)\n",
    "    result = job.result()\n",
    "    counts = result.get_counts()\n",
    "    \n",
    "    expectation_value = ((get_count(counts, '00')+get_count(counts, '11')) - \n",
    "                         (get_count(counts,'10')+get_count(counts, '01'))) / shots\n",
    "\n",
    "    return expectation_value"
   ]
  },
  {
   "cell_type": "code",
   "execution_count": 10,
   "metadata": {},
   "outputs": [],
   "source": [
    "#Helper function - Get the expected value for all the Pauli terms\n",
    "def expected_result(theta,hamiltonian):\n",
    "    total = 0\n",
    "    for i in range(len(hamiltonian)):\n",
    "        expectation = hamiltonian[i][0]*expect_val(theta,hamiltonian[i][1])\n",
    "        total += expectation\n",
    "    return total"
   ]
  },
  {
   "cell_type": "code",
   "execution_count": 11,
   "metadata": {},
   "outputs": [
    {
     "name": "stdout",
     "output_type": "stream",
     "text": [
      "(-2+0j)\n"
     ]
    }
   ],
   "source": [
    "#Step 3 => Use muliple parameters to change ansatz everytime and optimize to choose the lowest possible value to get\n",
    "#lowest possible eigen value\n",
    "\n",
    "#For Loop to Optimize\n",
    "angles = np.linspace(0,2*np.pi,25)\n",
    "expect = [expected_result(i,d) for i in angles]\n",
    "print(min(expect))"
   ]
  },
  {
   "cell_type": "code",
   "execution_count": 12,
   "metadata": {},
   "outputs": [
    {
     "name": "stdout",
     "output_type": "stream",
     "text": [
      "Lowest eigenvalue (calculated using Numpy) (-1.9999999999999998+0j)\n"
     ]
    }
   ],
   "source": [
    "#Step 3 -- Test\n",
    "print(\"Lowest eigenvalue (calculated using Numpy)\", min(np.linalg.eig(H)[0]))\n",
    "\n",
    "#We can see that our result using VQE approximated using for-loop is close to what is calculated analytically by Numpy"
   ]
  },
  {
   "cell_type": "code",
   "execution_count": 13,
   "metadata": {},
   "outputs": [
    {
     "name": "stdout",
     "output_type": "stream",
     "text": [
      "(0.5+0j) * ( I ⊗ I )\n",
      "(-0.5+0j) * ( X ⊗ X )\n",
      "(-0.5+0j) * ( Y ⊗ Y )\n",
      "(0.5+0j) * ( Z ⊗ Z )\n"
     ]
    }
   ],
   "source": [
    "#Task 4\n",
    "#Find the lowest eigenvalue of the following matrix: \n",
    "# [1 0 0 0; \n",
    "# 0 0 -1 0;\n",
    "# 0 -1 0 0; \n",
    "# 0 0 0 1]\n",
    "\n",
    "#We create the hamiltonian\n",
    "H = np.array([[1,0,0,0],[0,0,-1,0],[0,-1,0,0],[0,0,0,1]], dtype=np.complex128)\n",
    "\n",
    "#We decompose it into Pauli Matrices\n",
    "p = decompose(H)"
   ]
  },
  {
   "cell_type": "code",
   "execution_count": 14,
   "metadata": {},
   "outputs": [
    {
     "name": "stdout",
     "output_type": "stream",
     "text": [
      "(-1+0j)\n"
     ]
    }
   ],
   "source": [
    "#We find the expectation\n",
    "\n",
    "#Using for loop\n",
    "angles = np.linspace(0,2*np.pi,25)\n",
    "expect = [expected_result(i,p) for i in angles]\n",
    "print(min(expect))"
   ]
  },
  {
   "cell_type": "code",
   "execution_count": 15,
   "metadata": {},
   "outputs": [
    {
     "name": "stdout",
     "output_type": "stream",
     "text": [
      "Lowest eigenvalue (calculated using Numpy) (-0.9999999999999999+0j)\n"
     ]
    }
   ],
   "source": [
    "print(\"Lowest eigenvalue (calculated using Numpy)\", min(np.linalg.eig(H)[0]))"
   ]
  },
  {
   "cell_type": "code",
   "execution_count": 16,
   "metadata": {},
   "outputs": [
    {
     "name": "stderr",
     "output_type": "stream",
     "text": [
      "C:\\Users\\Aryan\\Anaconda3\\lib\\site-packages\\numpy\\core\\_asarray.py:83: ComplexWarning: Casting complex values to real discards the imaginary part\n",
      "  return array(a, dtype, copy=False, order=order)\n"
     ]
    },
    {
     "data": {
      "text/plain": [
       "Text(0.5, 0, 'Angles (0-2π)')"
      ]
     },
     "execution_count": 16,
     "metadata": {},
     "output_type": "execute_result"
    },
    {
     "data": {
      "image/png": "[encoded data removed]",
      "text/plain": [
       "<Figure size 432x288 with 1 Axes>"
      ]
     },
     "metadata": {
      "needs_background": "light"
     },
     "output_type": "display_data"
    }
   ],
   "source": [
    "import matplotlib.pyplot as plt\n",
    "plt.plot(angles,expect)\n",
    "plt.ylabel('Expectation')\n",
    "plt.xlabel('Angles (0-2π)')"
   ]
  },
  {
   "cell_type": "code",
   "execution_count": null,
   "metadata": {},
   "outputs": [],
   "source": []
  }
 ],
 "metadata": {
  "kernelspec": {
   "display_name": "Python 3",
   "language": "python",
   "name": "python3"
  },
  "language_info": {
   "codemirror_mode": {
    "name": "ipython",
    "version": 3
   },
   "file_extension": ".py",
   "mimetype": "text/x-python",
   "name": "python",
   "nbconvert_exporter": "python",
   "pygments_lexer": "ipython3",
   "version": "3.7.4"
  }
 },
 "nbformat": 4,
 "nbformat_minor": 2
}
